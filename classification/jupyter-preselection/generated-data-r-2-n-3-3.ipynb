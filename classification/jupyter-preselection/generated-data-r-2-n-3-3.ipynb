{
 "cells": [
  {
   "cell_type": "code",
   "execution_count": 1,
   "metadata": {},
   "outputs": [
    {
     "name": "stderr",
     "output_type": "stream",
     "text": [
      "/Users/tinaavbelj/Mag/tourism-recommender-system/venv/lib/python3.7/site-packages/pandas/compat/__init__.py:85: UserWarning: Could not import the lzma module. Your installed Python is incomplete. Attempting to use lzma compression will result in a RuntimeError.\n",
      "  warnings.warn(msg)\n"
     ]
    }
   ],
   "source": [
    "import os\n",
    "import sys\n",
    "parent_dir = os.path.split(os.getcwd())[0]\n",
    "if parent_dir not in sys.path:\n",
    "    sys.path.append(parent_dir)\n",
    "    \n",
    "from preselection import Preselection"
   ]
  },
  {
   "cell_type": "code",
   "execution_count": 2,
   "metadata": {},
   "outputs": [
    {
     "name": "stdout",
     "output_type": "stream",
     "text": [
      "- - - - -\n",
      "(1440, 2048)\n",
      "CA\n",
      "0.5805555555555556\n",
      "- - - - -\n",
      "TP: 108\n",
      "TN: 79\n",
      "FP: 101\n",
      "FN: 72\n",
      "- - - - -\n",
      "\n",
      "(1440, 2048)\n",
      "1440\n",
      "\n",
      "- \n",
      "\n",
      "CA\n",
      "0.5715277777777779\n",
      "\n",
      "Shape\n",
      "(823, 2048)\n",
      "823\n",
      "\n",
      "- \n",
      "\n",
      "- \n",
      "\n",
      "CA\n",
      "0.9003494802034947\n",
      "\n",
      "Shape\n",
      "(741, 2048)\n",
      "741\n",
      "\n",
      "- \n",
      "\n",
      "- \n",
      "\n",
      "CA\n",
      "0.9838056680161943\n",
      "\n",
      "Shape\n",
      "(729, 2048)\n",
      "729\n",
      "\n",
      "- \n",
      "\n",
      "- \n",
      "\n",
      "CA\n",
      "0.99039780521262\n",
      "\n",
      "Shape\n",
      "(722, 2048)\n",
      "722\n",
      "\n",
      "- \n",
      "\n",
      "- \n",
      "\n",
      "CA\n",
      "0.9972337482710927\n",
      "\n",
      "Shape\n",
      "(720, 2048)\n",
      "720\n",
      "\n",
      "- \n",
      "\n",
      "- \n",
      "\n",
      "CA\n",
      "1.0\n",
      "\n",
      "Shape\n",
      "(720, 2048)\n",
      "720\n",
      "\n",
      "- \n",
      "\n",
      "- \n",
      "\n",
      "CA\n",
      "1.0\n",
      "\n",
      "Shape\n",
      "(720, 2048)\n",
      "720\n",
      "\n",
      "- \n",
      "\n"
     ]
    },
    {
     "data": {
      "image/png": "[encoded data removed]",
      "text/plain": [
       "<Figure size 432x288 with 1 Axes>"
      ]
     },
     "metadata": {},
     "output_type": "display_data"
    },
    {
     "name": "stdout",
     "output_type": "stream",
     "text": [
      "- - - - -\n",
      "(720, 2048)\n",
      "CA\n",
      "0.6138888888888889\n",
      "- - - - -\n",
      "TP: 121\n",
      "TN: 80\n",
      "FP: 100\n",
      "FN: 59\n",
      "- - - - -\n",
      "\n"
     ]
    }
   ],
   "source": [
    "# Preselection example\n",
    "\n",
    "# Parameters\n",
    "data_directory = '../../data/generated-data-r-2-n-3-3'\n",
    "features_path = '../../data/features-generated-data-r-2-n-3-3'\n",
    "results_file = '../results-preselection/generated-data-r-2-n-3-3.csv'\n",
    "true_objects_indexes = [0, 1, 2]\n",
    "false_objects_indexes = [3, 4, 5]\n",
    "\n",
    "preselection = Preselection(data_directory, features_path, true_objects_indexes, false_objects_indexes)\n",
    "preselection.transform(results_file=results_file)"
   ]
  },
  {
   "cell_type": "code",
   "execution_count": null,
   "metadata": {},
   "outputs": [],
   "source": []
  }
 ],
 "metadata": {
  "kernelspec": {
   "display_name": "Python 3",
   "language": "python",
   "name": "python3"
  },
  "language_info": {
   "codemirror_mode": {
    "name": "ipython",
    "version": 3
   },
   "file_extension": ".py",
   "mimetype": "text/x-python",
   "name": "python",
   "nbconvert_exporter": "python",
   "pygments_lexer": "ipython3",
   "version": "3.7.5"
  }
 },
 "nbformat": 4,
 "nbformat_minor": 4
}
