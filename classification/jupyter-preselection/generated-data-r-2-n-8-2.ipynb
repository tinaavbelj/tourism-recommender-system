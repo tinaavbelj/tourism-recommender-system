{
 "cells": [
  {
   "cell_type": "code",
   "execution_count": 1,
   "metadata": {},
   "outputs": [
    {
     "name": "stderr",
     "output_type": "stream",
     "text": [
      "/Users/tinaavbelj/Mag/tourism-recommender-system/venv/lib/python3.7/site-packages/pandas/compat/__init__.py:85: UserWarning: Could not import the lzma module. Your installed Python is incomplete. Attempting to use lzma compression will result in a RuntimeError.\n",
      "  warnings.warn(msg)\n"
     ]
    },
    {
     "name": "stdout",
     "output_type": "stream",
     "text": [
      "- - - - -\n",
      "(2400, 2048)\n",
      "CA\n",
      "0.7683333333333333\n",
      "- - - - -\n",
      "TP: 447\n",
      "TN: 106\n",
      "FP: 14\n",
      "FN: 33\n",
      "- - - - -\n",
      "\n",
      "(2400, 2048)\n",
      "2400\n",
      "\n",
      "- \n",
      "\n",
      "CA\n",
      "0.7591666666666667\n",
      "\n",
      "Shape\n",
      "(1822, 2048)\n",
      "1822\n",
      "\n",
      "- \n",
      "\n",
      "- \n",
      "\n",
      "CA\n",
      "0.9687220006358567\n",
      "\n",
      "Shape\n",
      "(1765, 2048)\n",
      "1765\n",
      "\n",
      "- \n",
      "\n",
      "- \n",
      "\n",
      "CA\n",
      "0.9943329906948631\n",
      "\n",
      "Shape\n",
      "(1755, 2048)\n",
      "1755\n",
      "\n",
      "- \n",
      "\n",
      "- \n",
      "\n",
      "CA\n",
      "0.9994301994301994\n",
      "\n",
      "Shape\n",
      "(1754, 2048)\n",
      "1754\n",
      "\n",
      "- \n",
      "\n",
      "- \n",
      "\n",
      "CA\n",
      "1.0\n",
      "\n",
      "Shape\n",
      "(1754, 2048)\n",
      "1754\n",
      "\n",
      "- \n",
      "\n"
     ]
    },
    {
     "data": {
      "image/png": "[encoded data removed]",
      "text/plain": [
       "<Figure size 432x288 with 1 Axes>"
      ]
     },
     "metadata": {},
     "output_type": "display_data"
    },
    {
     "name": "stdout",
     "output_type": "stream",
     "text": [
      "- - - - -\n",
      "(1754, 2048)\n",
      "CA\n",
      "0.79\n",
      "- - - - -\n",
      "TP: 472\n",
      "TN: 118\n",
      "FP: 2\n",
      "FN: 8\n",
      "- - - - -\n",
      "\n"
     ]
    }
   ],
   "source": [
    "import os\n",
    "import sys\n",
    "parent_dir = os.path.split(os.getcwd())[0]\n",
    "if parent_dir not in sys.path:\n",
    "    sys.path.append(parent_dir)\n",
    "    \n",
    "from preselection import Preselection\n",
    "\n",
    "# Preselection example\n",
    "\n",
    "# Parameters\n",
    "data_directory = '../../data/generated-data-r-2-n-8-2'\n",
    "features_path = '../../data/features-generated-data-r-2-n-8-2'\n",
    "results_file = '../results-preselection/generated-data-r-2-n-8-2.csv'\n",
    "true_objects_indexes = [0, 1, 2, 3, 4, 5, 6, 7]\n",
    "false_objects_indexes = [8, 9]\n",
    "\n",
    "preselection = Preselection(data_directory, features_path, true_objects_indexes, false_objects_indexes)\n",
    "preselection.transform(results_file=results_file)"
   ]
  }
 ],
 "metadata": {
  "kernelspec": {
   "display_name": "Python 3",
   "language": "python",
   "name": "python3"
  },
  "language_info": {
   "codemirror_mode": {
    "name": "ipython",
    "version": 3
   },
   "file_extension": ".py",
   "mimetype": "text/x-python",
   "name": "python",
   "nbconvert_exporter": "python",
   "pygments_lexer": "ipython3",
   "version": "3.7.5"
  }
 },
 "nbformat": 4,
 "nbformat_minor": 4
}
