{
 "cells": [
  {
   "cell_type": "code",
   "execution_count": 2,
   "metadata": {},
   "outputs": [
    {
     "name": "stdout",
     "output_type": "stream",
     "text": [
      "Object selection: random\n",
      "\n",
      "Dfmf\n",
      "\n",
      "label ranking loss: 0.24984306340238543\n"
     ]
    }
   ],
   "source": [
    "import os\n",
    "import sys\n",
    "parent_dir = os.path.split(os.getcwd())[0]\n",
    "if parent_dir not in sys.path:\n",
    "    sys.path.append(parent_dir)\n",
    "\n",
    "import random\n",
    "import pickle\n",
    "\n",
    "from utils import get_features\n",
    "from object_selection import ObjectSelection\n",
    "from load_data import load_data\n",
    "\n",
    "# Parameters\n",
    "data_directory = '../../data/experience-6-mix/'\n",
    "features_path = '../../data/features-experience-6-mix'\n",
    "booking_file = '../../data/booking.csv'\n",
    "users_file = '../../data/user.csv'\n",
    "\n",
    "#file_to_delete = data_directory + '.DS_Store'\n",
    "#os.remove(file_to_delete)\n",
    "\n",
    "file_names = os.listdir(data_directory)\n",
    "img_ids_vector = [int(name.split('-')[0]) for name in file_names]\n",
    "ratings_vector = [int(name.split('-')[-2]) for name in file_names]\n",
    "name_vector = [data_directory + name for name in file_names]\n",
    "\n",
    "ratings_matrix, images_indexes_for_id, ids_indexes, users_matrix = load_data(data_directory, booking_file, users_file)\n",
    "\n",
    "new_ratings = []\n",
    "for r in ratings_vector:\n",
    "    if r == 1:\n",
    "        new_ratings.append(1)\n",
    "    if r == 3:\n",
    "        new_ratings.append(2)\n",
    "    else:\n",
    "        c = random.choice([1, 2])\n",
    "        if c == 1:\n",
    "            new_ratings.append(1)\n",
    "        else:\n",
    "            new_ratings.append(2)\n",
    "\n",
    "features = get_features(features_path, name_vector)\n",
    "\n",
    "selection = ObjectSelection(show_selection_results=True, selection_algorithm='random')\n",
    "selection.transform(ids=img_ids_vector, features=features, ratings=ratings_vector, users_ratings=ratings_matrix, users=users_matrix)\n",
    "selection.evaluate(evaluation_metric='lrl')"
   ]
  },
  {
   "cell_type": "code",
   "execution_count": null,
   "metadata": {},
   "outputs": [],
   "source": []
  }
 ],
 "metadata": {
  "kernelspec": {
   "display_name": "Python 3",
   "language": "python",
   "name": "python3"
  },
  "language_info": {
   "codemirror_mode": {
    "name": "ipython",
    "version": 3
   },
   "file_extension": ".py",
   "mimetype": "text/x-python",
   "name": "python",
   "nbconvert_exporter": "python",
   "pygments_lexer": "ipython3",
   "version": "3.7.5"
  }
 },
 "nbformat": 4,
 "nbformat_minor": 4
}
