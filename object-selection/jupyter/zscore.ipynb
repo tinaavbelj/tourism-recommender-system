{
 "cells": [
  {
   "cell_type": "code",
   "execution_count": 2,
   "metadata": {},
   "outputs": [
    {
     "name": "stdout",
     "output_type": "stream",
     "text": [
      "\n",
      "Preselection\n",
      "\n",
      "Object selection: knn\n",
      "\n",
      "Dfmf\n",
      "\n",
      "Parameters\n",
      "\n",
      "10 12 8 6\n",
      "\n"
     ]
    },
    {
     "name": "stderr",
     "output_type": "stream",
     "text": [
      "/Users/tinaavbelj/Mag/tourism-recommender-system/venv/lib/python3.7/site-packages/skfusion/fusion/base/fusion_graph.py:465: RuntimeWarning: Mean of empty slice\n",
      "  mean = np.nanmean(x)\n"
     ]
    },
    {
     "name": "stdout",
     "output_type": "stream",
     "text": [
      "\n",
      "rmse: 0.0\n"
     ]
    },
    {
     "name": "stderr",
     "output_type": "stream",
     "text": [
      "/Users/tinaavbelj/Mag/tourism-recommender-system/object-selection/object_selection.py:577: RuntimeWarning: Mean of empty slice\n",
      "  mns = np.nanmean(a=a, axis=0, keepdims=True)\n",
      "/Users/tinaavbelj/Mag/tourism-recommender-system/venv/lib/python3.7/site-packages/numpy/lib/nanfunctions.py:1628: RuntimeWarning: Degrees of freedom <= 0 for slice.\n",
      "  keepdims=keepdims)\n"
     ]
    },
    {
     "ename": "ValueError",
     "evalue": "Only one class present in y_true. ROC AUC score is not defined in that case.",
     "output_type": "error",
     "traceback": [
      "\u001b[0;31m---------------------------------------------------------------------------\u001b[0m",
      "\u001b[0;31mValueError\u001b[0m                                Traceback (most recent call last)",
      "\u001b[0;32m<ipython-input-2-14b72d339361>\u001b[0m in \u001b[0;36m<module>\u001b[0;34m\u001b[0m\n\u001b[1;32m     43\u001b[0m                     \u001b[0mtrue_objects_indexes\u001b[0m\u001b[0;34m=\u001b[0m\u001b[0mtrue_objects_indexes\u001b[0m\u001b[0;34m,\u001b[0m \u001b[0mfalse_objects_indexes\u001b[0m\u001b[0;34m=\u001b[0m\u001b[0mfalse_objects_indexes\u001b[0m\u001b[0;34m,\u001b[0m\u001b[0;34m\u001b[0m\u001b[0;34m\u001b[0m\u001b[0m\n\u001b[1;32m     44\u001b[0m                     paths=name_vector, z_score=True)\n\u001b[0;32m---> 45\u001b[0;31m     \u001b[0mselection\u001b[0m\u001b[0;34m.\u001b[0m\u001b[0mevaluate\u001b[0m\u001b[0;34m(\u001b[0m\u001b[0mevaluation_metric\u001b[0m\u001b[0;34m=\u001b[0m\u001b[0;34m'auc'\u001b[0m\u001b[0;34m)\u001b[0m\u001b[0;34m\u001b[0m\u001b[0;34m\u001b[0m\u001b[0m\n\u001b[0m\u001b[1;32m     46\u001b[0m     \u001b[0mselection\u001b[0m\u001b[0;34m.\u001b[0m\u001b[0mevaluate\u001b[0m\u001b[0;34m(\u001b[0m\u001b[0mevaluation_metric\u001b[0m\u001b[0;34m=\u001b[0m\u001b[0;34m'rmse'\u001b[0m\u001b[0;34m)\u001b[0m\u001b[0;34m\u001b[0m\u001b[0;34m\u001b[0m\u001b[0m\n\u001b[1;32m     47\u001b[0m     \u001b[0mprint\u001b[0m\u001b[0;34m(\u001b[0m\u001b[0;34m'\\n\\n-----\\n\\n'\u001b[0m\u001b[0;34m)\u001b[0m\u001b[0;34m\u001b[0m\u001b[0;34m\u001b[0m\u001b[0m\n",
      "\u001b[0;32m~/Mag/tourism-recommender-system/object-selection/object_selection.py\u001b[0m in \u001b[0;36mevaluate\u001b[0;34m(self, evaluation_metric)\u001b[0m\n\u001b[1;32m    614\u001b[0m         \u001b[0mscore\u001b[0m \u001b[0;34m=\u001b[0m \u001b[0mrmse\u001b[0m\u001b[0;34m(\u001b[0m\u001b[0mratings_true\u001b[0m\u001b[0;34m,\u001b[0m \u001b[0mratings_predicted\u001b[0m\u001b[0;34m)\u001b[0m\u001b[0;34m\u001b[0m\u001b[0;34m\u001b[0m\u001b[0m\n\u001b[1;32m    615\u001b[0m         \u001b[0mprint\u001b[0m\u001b[0;34m(\u001b[0m\u001b[0;34m'\\nrmse: '\u001b[0m \u001b[0;34m+\u001b[0m \u001b[0mstr\u001b[0m\u001b[0;34m(\u001b[0m\u001b[0mscore\u001b[0m\u001b[0;34m)\u001b[0m\u001b[0;34m)\u001b[0m\u001b[0;34m\u001b[0m\u001b[0;34m\u001b[0m\u001b[0m\n\u001b[0;32m--> 616\u001b[0;31m         \u001b[0mscore\u001b[0m \u001b[0;34m=\u001b[0m \u001b[0mroc_auc_score\u001b[0m\u001b[0;34m(\u001b[0m\u001b[0mratings_true\u001b[0m\u001b[0;34m,\u001b[0m \u001b[0mratings_predicted\u001b[0m\u001b[0;34m)\u001b[0m\u001b[0;34m\u001b[0m\u001b[0;34m\u001b[0m\u001b[0m\n\u001b[0m\u001b[1;32m    617\u001b[0m \u001b[0;34m\u001b[0m\u001b[0m\n\u001b[1;32m    618\u001b[0m         \u001b[0mprint\u001b[0m\u001b[0;34m(\u001b[0m\u001b[0;34m'\\nauc: '\u001b[0m \u001b[0;34m+\u001b[0m \u001b[0mstr\u001b[0m\u001b[0;34m(\u001b[0m\u001b[0mscore\u001b[0m\u001b[0;34m)\u001b[0m\u001b[0;34m)\u001b[0m\u001b[0;34m\u001b[0m\u001b[0;34m\u001b[0m\u001b[0m\n",
      "\u001b[0;32m~/Mag/tourism-recommender-system/venv/lib/python3.7/site-packages/sklearn/utils/validation.py\u001b[0m in \u001b[0;36minner_f\u001b[0;34m(*args, **kwargs)\u001b[0m\n\u001b[1;32m     71\u001b[0m                           FutureWarning)\n\u001b[1;32m     72\u001b[0m         \u001b[0mkwargs\u001b[0m\u001b[0;34m.\u001b[0m\u001b[0mupdate\u001b[0m\u001b[0;34m(\u001b[0m\u001b[0;34m{\u001b[0m\u001b[0mk\u001b[0m\u001b[0;34m:\u001b[0m \u001b[0marg\u001b[0m \u001b[0;32mfor\u001b[0m \u001b[0mk\u001b[0m\u001b[0;34m,\u001b[0m \u001b[0marg\u001b[0m \u001b[0;32min\u001b[0m \u001b[0mzip\u001b[0m\u001b[0;34m(\u001b[0m\u001b[0msig\u001b[0m\u001b[0;34m.\u001b[0m\u001b[0mparameters\u001b[0m\u001b[0;34m,\u001b[0m \u001b[0margs\u001b[0m\u001b[0;34m)\u001b[0m\u001b[0;34m}\u001b[0m\u001b[0;34m)\u001b[0m\u001b[0;34m\u001b[0m\u001b[0;34m\u001b[0m\u001b[0m\n\u001b[0;32m---> 73\u001b[0;31m         \u001b[0;32mreturn\u001b[0m \u001b[0mf\u001b[0m\u001b[0;34m(\u001b[0m\u001b[0;34m**\u001b[0m\u001b[0mkwargs\u001b[0m\u001b[0;34m)\u001b[0m\u001b[0;34m\u001b[0m\u001b[0;34m\u001b[0m\u001b[0m\n\u001b[0m\u001b[1;32m     74\u001b[0m     \u001b[0;32mreturn\u001b[0m \u001b[0minner_f\u001b[0m\u001b[0;34m\u001b[0m\u001b[0;34m\u001b[0m\u001b[0m\n\u001b[1;32m     75\u001b[0m \u001b[0;34m\u001b[0m\u001b[0m\n",
      "\u001b[0;32m~/Mag/tourism-recommender-system/venv/lib/python3.7/site-packages/sklearn/metrics/_ranking.py\u001b[0m in \u001b[0;36mroc_auc_score\u001b[0;34m(y_true, y_score, average, sample_weight, max_fpr, multi_class, labels)\u001b[0m\n\u001b[1;32m    391\u001b[0m                                              max_fpr=max_fpr),\n\u001b[1;32m    392\u001b[0m                                      \u001b[0my_true\u001b[0m\u001b[0;34m,\u001b[0m \u001b[0my_score\u001b[0m\u001b[0;34m,\u001b[0m \u001b[0maverage\u001b[0m\u001b[0;34m,\u001b[0m\u001b[0;34m\u001b[0m\u001b[0;34m\u001b[0m\u001b[0m\n\u001b[0;32m--> 393\u001b[0;31m                                      sample_weight=sample_weight)\n\u001b[0m\u001b[1;32m    394\u001b[0m     \u001b[0;32melse\u001b[0m\u001b[0;34m:\u001b[0m  \u001b[0;31m# multilabel-indicator\u001b[0m\u001b[0;34m\u001b[0m\u001b[0;34m\u001b[0m\u001b[0m\n\u001b[1;32m    395\u001b[0m         return _average_binary_score(partial(_binary_roc_auc_score,\n",
      "\u001b[0;32m~/Mag/tourism-recommender-system/venv/lib/python3.7/site-packages/sklearn/metrics/_base.py\u001b[0m in \u001b[0;36m_average_binary_score\u001b[0;34m(binary_metric, y_true, y_score, average, sample_weight)\u001b[0m\n\u001b[1;32m     75\u001b[0m \u001b[0;34m\u001b[0m\u001b[0m\n\u001b[1;32m     76\u001b[0m     \u001b[0;32mif\u001b[0m \u001b[0my_type\u001b[0m \u001b[0;34m==\u001b[0m \u001b[0;34m\"binary\"\u001b[0m\u001b[0;34m:\u001b[0m\u001b[0;34m\u001b[0m\u001b[0;34m\u001b[0m\u001b[0m\n\u001b[0;32m---> 77\u001b[0;31m         \u001b[0;32mreturn\u001b[0m \u001b[0mbinary_metric\u001b[0m\u001b[0;34m(\u001b[0m\u001b[0my_true\u001b[0m\u001b[0;34m,\u001b[0m \u001b[0my_score\u001b[0m\u001b[0;34m,\u001b[0m \u001b[0msample_weight\u001b[0m\u001b[0;34m=\u001b[0m\u001b[0msample_weight\u001b[0m\u001b[0;34m)\u001b[0m\u001b[0;34m\u001b[0m\u001b[0;34m\u001b[0m\u001b[0m\n\u001b[0m\u001b[1;32m     78\u001b[0m \u001b[0;34m\u001b[0m\u001b[0m\n\u001b[1;32m     79\u001b[0m     \u001b[0mcheck_consistent_length\u001b[0m\u001b[0;34m(\u001b[0m\u001b[0my_true\u001b[0m\u001b[0;34m,\u001b[0m \u001b[0my_score\u001b[0m\u001b[0;34m,\u001b[0m \u001b[0msample_weight\u001b[0m\u001b[0;34m)\u001b[0m\u001b[0;34m\u001b[0m\u001b[0;34m\u001b[0m\u001b[0m\n",
      "\u001b[0;32m~/Mag/tourism-recommender-system/venv/lib/python3.7/site-packages/sklearn/metrics/_ranking.py\u001b[0m in \u001b[0;36m_binary_roc_auc_score\u001b[0;34m(y_true, y_score, sample_weight, max_fpr)\u001b[0m\n\u001b[1;32m    221\u001b[0m     \u001b[0;34m\"\"\"Binary roc auc score\"\"\"\u001b[0m\u001b[0;34m\u001b[0m\u001b[0;34m\u001b[0m\u001b[0m\n\u001b[1;32m    222\u001b[0m     \u001b[0;32mif\u001b[0m \u001b[0mlen\u001b[0m\u001b[0;34m(\u001b[0m\u001b[0mnp\u001b[0m\u001b[0;34m.\u001b[0m\u001b[0munique\u001b[0m\u001b[0;34m(\u001b[0m\u001b[0my_true\u001b[0m\u001b[0;34m)\u001b[0m\u001b[0;34m)\u001b[0m \u001b[0;34m!=\u001b[0m \u001b[0;36m2\u001b[0m\u001b[0;34m:\u001b[0m\u001b[0;34m\u001b[0m\u001b[0;34m\u001b[0m\u001b[0m\n\u001b[0;32m--> 223\u001b[0;31m         raise ValueError(\"Only one class present in y_true. ROC AUC score \"\n\u001b[0m\u001b[1;32m    224\u001b[0m                          \"is not defined in that case.\")\n\u001b[1;32m    225\u001b[0m \u001b[0;34m\u001b[0m\u001b[0m\n",
      "\u001b[0;31mValueError\u001b[0m: Only one class present in y_true. ROC AUC score is not defined in that case."
     ]
    }
   ],
   "source": [
    "import os\n",
    "import sys\n",
    "parent_dir = os.path.split(os.getcwd())[0]\n",
    "if parent_dir not in sys.path:\n",
    "    sys.path.append(parent_dir)\n",
    "\n",
    "import random\n",
    "import pickle\n",
    "\n",
    "from utils import get_features, save_scores\n",
    "from object_selection import ObjectSelection\n",
    "from load_data import load_data\n",
    "import matplotlib.pyplot as plt\n",
    "\n",
    "# Parameters\n",
    "data_directory = '../../data/generated-data-nr-2-n-8-2/'\n",
    "features_path = '../../data/features-generated-data-nr-2-n-8-2'\n",
    "booking_file = '../../data/booking.csv'\n",
    "users_file = '../../data/user.csv'\n",
    "rating_thresholds = []\n",
    "true_objects_indexes = [0, 1, 2, 3, 4, 5, 6, 7]\n",
    "false_objects_indexes = [8, 9]\n",
    "\n",
    "file_names = os.listdir(data_directory)\n",
    "img_ids_vector = [int(name.split('-')[0]) for name in file_names]\n",
    "ratings_vector = [int(name.split('-')[-2]) for name in file_names]\n",
    "name_vector = [data_directory + name for name in file_names]\n",
    "images_indexes = [name.split('-')[3].split('.')[0] for name in file_names]\n",
    "\n",
    "ratings_matrix, images_indexes_for_id, ids_indexes, users_matrix = load_data(data_directory, booking_file,\n",
    "                                                                             users_file, rating_thresholds)\n",
    "\n",
    "features = get_features(features_path, name_vector)\n",
    "\n",
    "# K Nearest Neighbors\n",
    "cv_results_file = '../results/cv-generated-data-nr-2-n-8-2-knn-y.csv'\n",
    "scores = []\n",
    "for _ in range(10):\n",
    "    selection = ObjectSelection(show_selection_results=False, selection_algorithm='knn')\n",
    "    #selection.transform(ids=img_ids_vector, features=features, ratings=ratings_vector, users_ratings=ratings_matrix, users=users_matrix, cv_results_file=cv_results_file)\n",
    "    selection.transform(ids=img_ids_vector, features=features, ratings=ratings_vector, users_ratings=ratings_matrix,\n",
    "                    users=users_matrix, cv_results_file=cv_results_file, images_indexes=images_indexes,\n",
    "                    true_objects_indexes=true_objects_indexes, false_objects_indexes=false_objects_indexes,\n",
    "                    paths=name_vector, z_score=True)\n",
    "    selection.evaluate(evaluation_metric='auc')\n",
    "    selection.evaluate(evaluation_metric='rmse')\n",
    "    print('\\n\\n-----\\n\\n')\n",
    "    score = selection.evaluate(evaluation_metric='auc')\n",
    "    scores.append(score)\n",
    "    \n",
    "plt.title('AUC za izbrane slike')\n",
    "plt.plot(scores)\n",
    "plt.ylabel('AUC')\n",
    "plt.show()\n",
    "\n",
    "scores.sort()\n",
    "plt.title('AUC za izbrane slike')\n",
    "plt.plot(scores)\n",
    "plt.ylabel('AUC')\n",
    "plt.show()\n",
    "\n",
    "results_file = '../scores/generated-data-nr-2-n-8-2-knn-zscore.csv'\n",
    "save_scores(scores, results_file)"
   ]
  },
  {
   "cell_type": "code",
   "execution_count": null,
   "metadata": {},
   "outputs": [],
   "source": [
    "# K Nearest Neighbors\n",
    "cv_results_file = '../results/cv-generated-data-nr-2-n-8-2-random-y.csv'\n",
    "scores = []\n",
    "for _ in range(10):\n",
    "    selection = ObjectSelection(show_selection_results=False, selection_algorithm='random')\n",
    "    #selection.transform(ids=img_ids_vector, features=features, ratings=ratings_vector, users_ratings=ratings_matrix, users=users_matrix, cv_results_file=cv_results_file)\n",
    "    selection.transform(ids=img_ids_vector, features=features, ratings=ratings_vector, users_ratings=ratings_matrix,\n",
    "                    users=users_matrix, cv_results_file=cv_results_file, images_indexes=images_indexes,\n",
    "                    true_objects_indexes=true_objects_indexes, false_objects_indexes=false_objects_indexes,\n",
    "                    paths=name_vector, z_score=True)\n",
    "    selection.evaluate(evaluation_metric='auc')\n",
    "    selection.evaluate(evaluation_metric='rmse')\n",
    "    print('\\n\\n-----\\n\\n')\n",
    "    score = selection.evaluate(evaluation_metric='auc')\n",
    "    scores.append(score)\n",
    "    \n",
    "plt.title('AUC za izbrane slike')\n",
    "plt.plot(scores)\n",
    "plt.ylabel('AUC')\n",
    "plt.show()\n",
    "\n",
    "scores.sort()\n",
    "plt.title('AUC za izbrane slike')\n",
    "plt.plot(scores)\n",
    "plt.ylabel('AUC')\n",
    "plt.show()\n",
    "\n",
    "results_file = '../scores/generated-data-nr-2-n-8-2-random-zscore.csv'\n",
    "save_scores(scores, results_file)"
   ]
  },
  {
   "cell_type": "code",
   "execution_count": null,
   "metadata": {},
   "outputs": [],
   "source": [
    "# K Nearest Neighbors\n",
    "cv_results_file = '../results/cv-generated-data-nr-2-n-8-2-rf-y.csv'\n",
    "scores = []\n",
    "for _ in range(10):\n",
    "    selection = ObjectSelection(show_selection_results=False, selection_algorithm='random')\n",
    "    #selection.transform(ids=img_ids_vector, features=features, ratings=ratings_vector, users_ratings=ratings_matrix, users=users_matrix, cv_results_file=cv_results_file)\n",
    "    selection.transform(ids=img_ids_vector, features=features, ratings=ratings_vector, users_ratings=ratings_matrix,\n",
    "                    users=users_matrix, cv_results_file=cv_results_file, images_indexes=images_indexes,\n",
    "                    true_objects_indexes=true_objects_indexes, false_objects_indexes=false_objects_indexes,\n",
    "                    paths=name_vector, z_score=True)\n",
    "    selection.evaluate(evaluation_metric='auc')\n",
    "    selection.evaluate(evaluation_metric='rmse')\n",
    "    print('\\n\\n-----\\n\\n')\n",
    "    score = selection.evaluate(evaluation_metric='auc')\n",
    "    scores.append(score)\n",
    "    \n",
    "plt.title('AUC za izbrane slike')\n",
    "plt.plot(scores)\n",
    "plt.ylabel('AUC')\n",
    "plt.show()\n",
    "\n",
    "scores.sort()\n",
    "plt.title('AUC za izbrane slike')\n",
    "plt.plot(scores)\n",
    "plt.ylabel('AUC')\n",
    "plt.show()\n",
    "\n",
    "results_file = '../scores/generated-data-nr-2-n-8-2-rf-zscore.csv'\n",
    "save_scores(scores, results_file)"
   ]
  },
  {
   "cell_type": "code",
   "execution_count": null,
   "metadata": {},
   "outputs": [],
   "source": []
  },
  {
   "cell_type": "code",
   "execution_count": null,
   "metadata": {},
   "outputs": [],
   "source": []
  }
 ],
 "metadata": {
  "kernelspec": {
   "display_name": "Python 3",
   "language": "python",
   "name": "python3"
  },
  "language_info": {
   "codemirror_mode": {
    "name": "ipython",
    "version": 3
   },
   "file_extension": ".py",
   "mimetype": "text/x-python",
   "name": "python",
   "nbconvert_exporter": "python",
   "pygments_lexer": "ipython3",
   "version": "3.7.5"
  }
 },
 "nbformat": 4,
 "nbformat_minor": 4
}
